{
 "cells": [
  {
   "cell_type": "code",
   "execution_count": 25,
   "metadata": {},
   "outputs": [],
   "source": [
    "import json\n",
    "import requests\n",
    "\n",
    "url = \"https://ocr.asprise.com/api/v1/receipt\"\n",
    "image = \"assets/lol2.png\"\n",
    "\n",
    "res = requests.post(url, \n",
    "                    data = {\n",
    "                        'api_key': 'TEST',\n",
    "                        'recognizer': 'auto',\n",
    "                        'ref_no': 'oct_python_123'\n",
    "                    }, files = {\n",
    "                        'file': open(image, 'rb')\n",
    "                    }\n",
    "                    )"
   ]
  },
  {
   "cell_type": "code",
   "execution_count": 26,
   "metadata": {},
   "outputs": [],
   "source": [
    "with open(\"response1.json\",\"w\") as f:\n",
    "    json.dump(json.loads(res.text), f)"
   ]
  },
  {
   "cell_type": "code",
   "execution_count": 27,
   "metadata": {},
   "outputs": [
    {
     "data": {
      "text/plain": [
       "{'ocr_type': 'receipts',\n",
       " 'request_id': 'P_142.231.75.98_m3uscn3q_ehh',\n",
       " 'ref_no': 'oct_python_123',\n",
       " 'file_name': 'lol2.png',\n",
       " 'request_received_on': 1732403561463,\n",
       " 'success': True,\n",
       " 'image_width': 3072,\n",
       " 'image_height': 4080,\n",
       " 'image_rotation': -0.006,\n",
       " 'recognition_completed_on': 1732403562612,\n",
       " 'receipts': [{'merchant_name': 'La Cabana -Venice',\n",
       "   'merchant_address': '738 Rose Ave',\n",
       "   'merchant_phone': None,\n",
       "   'merchant_website': None,\n",
       "   'merchant_tax_reg_no': None,\n",
       "   'merchant_company_reg_no': None,\n",
       "   'region': None,\n",
       "   'mall': None,\n",
       "   'country': 'US',\n",
       "   'state': 'CA',\n",
       "   'city': 'Venice',\n",
       "   'zip': '90291',\n",
       "   'receipt_no': '1809',\n",
       "   'date': '2024-03-10',\n",
       "   'time': '01:06',\n",
       "   'items': [{'amount': 18.0,\n",
       "     'category': None,\n",
       "     'description': 'Dos Tacos (Brunch)',\n",
       "     'flags': '',\n",
       "     'qty': 1,\n",
       "     'remarks': None,\n",
       "     'tags': None,\n",
       "     'unitPrice': None},\n",
       "    {'amount': 21.95,\n",
       "     'category': None,\n",
       "     'description': '6. Taco y Enchilada (Super Combo)',\n",
       "     'flags': '',\n",
       "     'qty': 1,\n",
       "     'remarks': None,\n",
       "     'tags': None,\n",
       "     'unitPrice': None},\n",
       "    {'amount': 12.75,\n",
       "     'category': None,\n",
       "     'description': 'Brunch Reg Lime Margarita',\n",
       "     'flags': '',\n",
       "     'qty': 1,\n",
       "     'remarks': None,\n",
       "     'tags': None,\n",
       "     'unitPrice': None}],\n",
       "   'currency': 'USD',\n",
       "   'total': 57.71,\n",
       "   'subtotal': 52.7,\n",
       "   'tax': 5.01,\n",
       "   'service_charge': None,\n",
       "   'tip': None,\n",
       "   'payment_method': None,\n",
       "   'payment_details': None,\n",
       "   'credit_card_type': None,\n",
       "   'credit_card_number': None,\n",
       "   'ocr_text': '                 La Cabaña\\n            La Cabana -Venice\\n               738 Rose Ave\\n             Venice, CA 90291\\n Opened: 03/10/2024 1:06 pm\\n Order: 1809                      Check: 1\\n Order Type: Dine In\\n Name: Table 15\\n Server: Emilio\\n 1 Dos Tacos (Brunch)                18.00\\n 1 6. Taco y Enchilada (Super Combo) 21.95\\n 1  Brunch Reg Lime Margarita        12.75\\n Subtotal                           52.70\\n Sales Tax                           5.01\\n Total                            57.71\\n Pay With Cash:                   55.49\\n Customer copy\\n                Thank you!',\n",
       "   'ocr_confidence': 96.98,\n",
       "   'width': 1739,\n",
       "   'height': 2218,\n",
       "   'avg_char_width': 41.4274,\n",
       "   'avg_line_height': 75.1036,\n",
       "   'conf_amount': 83,\n",
       "   'source_locations': {'date': [[{'y': 1761, 'x': 771},\n",
       "      {'y': 1757, 'x': 1455},\n",
       "      {'y': 1854, 'x': 1455},\n",
       "      {'y': 1858, 'x': 772}]],\n",
       "    'total': [[{'y': 2878, 'x': 1861},\n",
       "      {'y': 2894, 'x': 2188},\n",
       "      {'y': 3021, 'x': 2181},\n",
       "      {'y': 3006, 'x': 1855}]],\n",
       "    'receipt_no': [[{'y': 1857, 'x': 765},\n",
       "      {'y': 1856, 'x': 942},\n",
       "      {'y': 1938, 'x': 942},\n",
       "      {'y': 1939, 'x': 765}]],\n",
       "    'subtotal': [[{'y': 2649, 'x': 1969},\n",
       "      {'y': 2653, 'x': 2202},\n",
       "      {'y': 2727, 'x': 2201},\n",
       "      {'y': 2723, 'x': 1968}]],\n",
       "    'merchant_name': [[{'y': 1409, 'x': 938},\n",
       "      {'y': 1409, 'x': 1759},\n",
       "      {'y': 1489, 'x': 1759},\n",
       "      {'y': 1489, 'x': 938}]],\n",
       "    'doc': [[{'y': 1143, 'x': 382},\n",
       "      {'y': 1132, 'x': 2295},\n",
       "      {'y': 3572, 'x': 2310},\n",
       "      {'y': 3583, 'x': 396}]],\n",
       "    'tax': [[{'y': 2738, 'x': 2012},\n",
       "      {'y': 2741, 'x': 2188},\n",
       "      {'y': 2819, 'x': 2187},\n",
       "      {'y': 2816, 'x': 2011}]],\n",
       "    'merchant_address': [[{'y': 1504, 'x': 1074},\n",
       "      {'y': 1506, 'x': 1615},\n",
       "      {'y': 1584, 'x': 1615},\n",
       "      {'y': 1582, 'x': 1074}]]}}]}"
      ]
     },
     "execution_count": 27,
     "metadata": {},
     "output_type": "execute_result"
    }
   ],
   "source": [
    "with open(\"response1.json\", \"r\") as f:\n",
    "    data = json.load(f)\n",
    "\n",
    "data"
   ]
  },
  {
   "cell_type": "code",
   "execution_count": 28,
   "metadata": {},
   "outputs": [
    {
     "data": {
      "text/plain": [
       "dict_keys(['merchant_name', 'merchant_address', 'merchant_phone', 'merchant_website', 'merchant_tax_reg_no', 'merchant_company_reg_no', 'region', 'mall', 'country', 'state', 'city', 'zip', 'receipt_no', 'date', 'time', 'items', 'currency', 'total', 'subtotal', 'tax', 'service_charge', 'tip', 'payment_method', 'payment_details', 'credit_card_type', 'credit_card_number', 'ocr_text', 'ocr_confidence', 'width', 'height', 'avg_char_width', 'avg_line_height', 'conf_amount', 'source_locations'])"
      ]
     },
     "execution_count": 28,
     "metadata": {},
     "output_type": "execute_result"
    }
   ],
   "source": [
    "data['receipts'][0].keys()"
   ]
  },
  {
   "cell_type": "code",
   "execution_count": 29,
   "metadata": {},
   "outputs": [
    {
     "data": {
      "text/plain": [
       "[{'amount': 18.0,\n",
       "  'category': None,\n",
       "  'description': 'Dos Tacos (Brunch)',\n",
       "  'flags': '',\n",
       "  'qty': 1,\n",
       "  'remarks': None,\n",
       "  'tags': None,\n",
       "  'unitPrice': None},\n",
       " {'amount': 21.95,\n",
       "  'category': None,\n",
       "  'description': '6. Taco y Enchilada (Super Combo)',\n",
       "  'flags': '',\n",
       "  'qty': 1,\n",
       "  'remarks': None,\n",
       "  'tags': None,\n",
       "  'unitPrice': None},\n",
       " {'amount': 12.75,\n",
       "  'category': None,\n",
       "  'description': 'Brunch Reg Lime Margarita',\n",
       "  'flags': '',\n",
       "  'qty': 1,\n",
       "  'remarks': None,\n",
       "  'tags': None,\n",
       "  'unitPrice': None}]"
      ]
     },
     "execution_count": 29,
     "metadata": {},
     "output_type": "execute_result"
    }
   ],
   "source": [
    "items = data['receipts'][0]['items']\n",
    "items"
   ]
  },
  {
   "cell_type": "code",
   "execution_count": 30,
   "metadata": {},
   "outputs": [
    {
     "name": "stdout",
     "output_type": "stream",
     "text": [
      "18.0\n",
      "21.95\n",
      "12.75\n"
     ]
    }
   ],
   "source": [
    "for item in items:\n",
    "    print(item['amount'])"
   ]
  },
  {
   "cell_type": "code",
   "execution_count": 31,
   "metadata": {},
   "outputs": [
    {
     "name": "stdout",
     "output_type": "stream",
     "text": [
      "Points: 52\n"
     ]
    }
   ],
   "source": [
    "print(f\"Points: {int(data['receipts'][0]['subtotal'])}\")"
   ]
  },
  {
   "cell_type": "code",
   "execution_count": null,
   "metadata": {},
   "outputs": [],
   "source": []
  }
 ],
 "metadata": {
  "kernelspec": {
   "display_name": "venv",
   "language": "python",
   "name": "python3"
  },
  "language_info": {
   "codemirror_mode": {
    "name": "ipython",
    "version": 3
   },
   "file_extension": ".py",
   "mimetype": "text/x-python",
   "name": "python",
   "nbconvert_exporter": "python",
   "pygments_lexer": "ipython3",
   "version": "3.12.2"
  }
 },
 "nbformat": 4,
 "nbformat_minor": 2
}
