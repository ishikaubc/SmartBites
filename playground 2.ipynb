{
 "cells": [
  {
   "cell_type": "code",
   "execution_count": 99,
   "metadata": {},
   "outputs": [],
   "source": [
    "import cv2\n",
    "import easyocr\n",
    "import numpy as np\n",
    "import matplotlib.pyplot as plt"
   ]
  },
  {
   "cell_type": "code",
   "execution_count": 100,
   "metadata": {},
   "outputs": [
    {
     "name": "stderr",
     "output_type": "stream",
     "text": [
      "Using CPU. Note: This module is much faster with a GPU.\n"
     ]
    }
   ],
   "source": [
    "image_path = '/Users/arhaankhaku/Documents/Development/Projects/SmartBites/assets/reciept.png'\n",
    "img = cv2.imread(image_path)\n",
    "reader = easyocr.Reader(['en'], gpu=False)\n",
    "text = reader.readtext(img)"
   ]
  },
  {
   "cell_type": "code",
   "execution_count": 103,
   "metadata": {},
   "outputs": [
    {
     "name": "stdout",
     "output_type": "stream",
     "text": [
      "HARBOR LANE CAFE\n",
      "3941 GREEN OAKS BLVD\n",
      "CHICAGO; IL\n",
      "SALE\n",
      "11/20/2019\n",
      "11*05 AM\n",
      "BATCH #01aza\n",
      "APPR #34362\n",
      "TRACE\n",
      "#\n",
      "9\n",
      "VISA 3483\n",
      "1\n",
      "Tacos Del Mal Shrimp\n",
      "S14.98\n",
      "L\n",
      "Especial Salad Chicken\n",
      "S12.50\n",
      "Fountain Beverage\n",
      "S1.99\n",
      "SUBTOTAL:\n",
      "s29.47\n",
      "Tax:\n",
      "S1.92\n",
      "TOTAL:\n",
      "S31.39\n",
      "TIP:\n",
      "TOTAL:\n",
      "APPROVED\n",
      "THANK YOU\n",
      "CUSTOMER COPY\n"
     ]
    }
   ],
   "source": [
    "ar = np.array([])\n",
    "for item in text:\n",
    "    print(item[1])\n",
    "    # if '$' in item[1]:\n",
    "    #     ar = np.append(ar,float(item[1].replace(\" \",\"\").replace(\"$\",\"\")))\n",
    "        "
   ]
  },
  {
   "cell_type": "code",
   "execution_count": null,
   "metadata": {},
   "outputs": [
    {
     "ename": "IndexError",
     "evalue": "index -2 is out of bounds for axis 0 with size 0",
     "output_type": "error",
     "traceback": [
      "\u001b[0;31m---------------------------------------------------------------------------\u001b[0m",
      "\u001b[0;31mIndexError\u001b[0m                                Traceback (most recent call last)",
      "Cell \u001b[0;32mIn[102], line 1\u001b[0m\n\u001b[0;32m----> 1\u001b[0m second_largest \u001b[38;5;241m=\u001b[39m \u001b[43mnp\u001b[49m\u001b[38;5;241;43m.\u001b[39;49m\u001b[43mpartition\u001b[49m\u001b[43m(\u001b[49m\u001b[43mar\u001b[49m\u001b[43m,\u001b[49m\u001b[43m \u001b[49m\u001b[38;5;241;43m-\u001b[39;49m\u001b[38;5;241;43m2\u001b[39;49m\u001b[43m)\u001b[49m\u001b[43m[\u001b[49m\u001b[38;5;241;43m-\u001b[39;49m\u001b[38;5;241;43m2\u001b[39;49m\u001b[43m]\u001b[49m\n\u001b[1;32m      2\u001b[0m \u001b[38;5;28mprint\u001b[39m(\u001b[38;5;124mf\u001b[39m\u001b[38;5;124m\"\u001b[39m\u001b[38;5;124mPoints: \u001b[39m\u001b[38;5;132;01m{\u001b[39;00m\u001b[38;5;28mint\u001b[39m(np\u001b[38;5;241m.\u001b[39mfloor(second_largest))\u001b[38;5;132;01m}\u001b[39;00m\u001b[38;5;124m\"\u001b[39m)\n",
      "\u001b[0;31mIndexError\u001b[0m: index -2 is out of bounds for axis 0 with size 0"
     ]
    }
   ],
   "source": [
    "# second_largest = np.partition(ar, -2)[-2]\n",
    "# print(f\"Points: {int(np.floor(second_largest))}\")\n"
   ]
  },
  {
   "cell_type": "code",
   "execution_count": null,
   "metadata": {},
   "outputs": [],
   "source": []
  }
 ],
 "metadata": {
  "kernelspec": {
   "display_name": "venv",
   "language": "python",
   "name": "python3"
  },
  "language_info": {
   "codemirror_mode": {
    "name": "ipython",
    "version": 3
   },
   "file_extension": ".py",
   "mimetype": "text/x-python",
   "name": "python",
   "nbconvert_exporter": "python",
   "pygments_lexer": "ipython3",
   "version": "3.12.2"
  }
 },
 "nbformat": 4,
 "nbformat_minor": 2
}
